{
 "cells": [
  {
   "attachments": {},
   "cell_type": "markdown",
   "metadata": {},
   "source": [
    "## Exceptions Report"
   ]
  },
  {
   "cell_type": "code",
   "execution_count": null,
   "metadata": {},
   "outputs": [],
   "source": [
    "'''\n",
    "# Files needed: \n",
    "#   UPDATE EACH TIME YOU RUN THE REPORT\n",
    "#       - SupplyDemand.csv = Current daily MRP report exported as csv to U:\\foldername1\\foldername2\\Input_Data\\SupplyDemand.csv\n",
    "#       - Inventory.csv = Current daily inventory from Discoverer exported as csv to U:\\foldername1\\foldername2\\Input_Data\\Inventory.csv\n",
    "#               # CODE REMOVED NONNETTABLE LOCATIONS, UPDATE CODE IF NEW SUBINVENTORIES ARE CREATED\n",
    "\n",
    "#   UPDATE WHEN CHANGES ARE MADE IN ORACLE\n",
    "#       - PLY_Item.csv = Current item details report from Discoverer exported as csv to U:\\foldername1\\foldername2\\Input_Data\\PLY_Item.csv\n",
    "#           - SCE- Item Detail Listing w Item Status\n",
    "#       - current master.csv reference file \n",
    "\n",
    "\n",
    "# Exception_Metrics.csv = file that gets metrics updates every time this script is run\n",
    "\n",
    "\n",
    "\n",
    "#If you need to update encoding\n",
    "#with open('filename.csv') as f:\n",
    "#    print(f)\n",
    "\n",
    "'''"
   ]
  },
  {
   "cell_type": "code",
   "execution_count": null,
   "metadata": {},
   "outputs": [],
   "source": [
    "#Import modules\n",
    "\n",
    "from os import chdir, system\n",
    "import datetime\n",
    "import pandas as pd"
   ]
  },
  {
   "cell_type": "code",
   "execution_count": null,
   "metadata": {},
   "outputs": [],
   "source": [
    "# Set the input file directory - ALL IMPORTED FILES COME FROM THE PATH.\n",
    "# IF YOU NEED TO, ADD A NEW PATH ABOVE A FILE THATS IMPORTED FROM A DIFFERENT FOLDER.\n",
    "chdir(r'U:\\foldername1\\foldername2\\Input_Data')"
   ]
  },
  {
   "cell_type": "code",
   "execution_count": null,
   "metadata": {},
   "outputs": [],
   "source": [
    "#Import Supply Demand\n",
    "\n",
    "# Read in the current Supply Demand file\n",
    "data = pd.read_csv('SupplyDemand.csv', encoding='utf-8',\n",
    "                   usecols=['Item','Order Type','Action','Planner','Using Assembly',\n",
    "                            'Source Supplier', 'Sugg Dock Date', 'Old Dock Date',\n",
    "                            'Sugg Due Date','Sugg Order Date','Order Number','Qty/Rate'],\n",
    "                      dtype={\n",
    "                             'Old Dock Date' : str,                #07   * changed to str\n",
    "                             'Sugg Order Date' : str,              #08   * changed to str\n",
    "                             'Sugg Dock Date' : str,               #14   * changed to str\n",
    "                             'Source Supplier' : str,              #15   * changed to str\n",
    "                             }\n",
    "                   )\n",
    "\n",
    "print(\"data file is loaded\")\n",
    "\n",
    "#preview the supply demand dataframe\n",
    "data.head()"
   ]
  },
  {
   "cell_type": "code",
   "execution_count": null,
   "metadata": {},
   "outputs": [],
   "source": [
    "\n",
    "#If you need to update encoding\n",
    "with open('Inventory.csv') as f:\n",
    "    print(f)\n",
    "\n",
    "#import inventory report\n",
    "# skiprows=4 allows you to drop the first four rows (originally blank when you pull the report)\n",
    "inventory = pd.read_csv('Inventory.csv', skiprows=4, encoding='latin1', usecols=['Subinventory', 'Item', 'Quantity'])\n",
    "\n",
    "# List of non-nettable subinventory locations\n",
    "# These we do not want included in inventory\n",
    "non_nettable_subinventories = ['FG_ENGHLD', 'MRB FG', 'MRB-RAW', 'MRB-WIP', 'PROJECTS', 'RAW_ENGHLD', 'WIP_ENGHLD']\n",
    "\n",
    "#drop the rows that have non-nettable locations\n",
    "inventory = inventory[~inventory.Subinventory.isin(non_nettable_subinventories)]\n",
    "\n",
    "#confirm the drop by printing unique subinventory locations\n",
    "print('List of unique subinventory locations:')\n",
    "print(inventory['Subinventory'].unique())\n",
    "\n",
    "#drop the subinventory column\n",
    "inventory.drop('Subinventory', axis=1, inplace=True)\n",
    "\n",
    "#preview the inventory df\n",
    "inventory.head()\n"
   ]
  },
  {
   "cell_type": "code",
   "execution_count": null,
   "metadata": {},
   "outputs": [],
   "source": [
    "#Import PLY Items to get buyer names\n",
    "\n",
    "# Read in the current Item details file\n",
    "buyers = pd.read_csv('PLY_Items.csv', encoding='utf-8',\n",
    "                     usecols=['Item', 'Buyer', 'Planner Code', 'Inventory Planning Code'])\n",
    "\n",
    "# Change the buyers' names to just first names\n",
    "buyers['Buyer'] = buyers['Buyer'].map({'lastname1, firstname1' : 'firstname1', 'lastname2, firstname2' : 'firstname2', 'lastname3, firstname3' : 'firstname3'})\n",
    "\n",
    "print(\"item_data file is loaded\")\n",
    "\n",
    "#preview the buyer df\n",
    "buyers.head()"
   ]
  },
  {
   "cell_type": "code",
   "execution_count": null,
   "metadata": {},
   "outputs": [],
   "source": [
    "#Import safety stock\n",
    "\n",
    "# Load the frozen cost from master\n",
    "master = pd.read_csv('master.csv', encoding='cp1252', usecols=['Item', 'Frozen Cost', 'Safety Stock'])\n",
    "master.rename(columns={'Safety Stock':'Safety Stock Qty'}, inplace=True)\n",
    "\n",
    "#preview the master df\n",
    "master.head()\n"
   ]
  },
  {
   "cell_type": "code",
   "execution_count": null,
   "metadata": {},
   "outputs": [],
   "source": [
    "#Start prep main frame\n",
    "\n",
    "# Add the buyer's name column to the data dataframe\n",
    "data = pd.merge(data, buyers, on='Item', how='left')\n",
    "\n",
    "#preview the merged df\n",
    "data.head()"
   ]
  },
  {
   "cell_type": "code",
   "execution_count": null,
   "metadata": {},
   "outputs": [],
   "source": [
    "#Remove min-max items\n",
    "\n",
    "minmax = data['Inventory Planning Code'] == \"Min-max planning\"\n",
    "data = data[~minmax]\n",
    "\n",
    "# Fact check - only Not Planned should exist\n",
    "print('List of unique Inventory Planning Code:')\n",
    "print(data['Inventory Planning Code'].unique())\n",
    "\n",
    "# Delete planning code column\n",
    "del data['Inventory Planning Code']\n"
   ]
  },
  {
   "cell_type": "code",
   "execution_count": null,
   "metadata": {},
   "outputs": [],
   "source": [
    "#Add planner code for using assembly\n",
    "\n",
    "del data['Planner Code'] # need to remove this and remerge\n",
    "\n",
    "del buyers['Buyer'] # don't need this anymore - already merged\n",
    "\n",
    "buyers.rename(columns={'Item':'Using Assembly', 'Planner Code':'Planner Code for Using Assembly'},\n",
    "              inplace=True)\n",
    "\n",
    "data = pd.merge(data, buyers, how='left', on='Using Assembly')\n",
    "\n",
    "#preview the data df\n",
    "data.head()"
   ]
  },
  {
   "cell_type": "code",
   "execution_count": null,
   "metadata": {},
   "outputs": [],
   "source": [
    "# Preview datatypes for each column\n",
    "display(data.dtypes)"
   ]
  },
  {
   "cell_type": "code",
   "execution_count": null,
   "metadata": {},
   "outputs": [],
   "source": [
    "#Change date formats\n",
    "# make sure all the dates are the same datetime format for sorting\n",
    "\n",
    "data['Sugg Dock Date'] = pd.to_datetime(data['Sugg Dock Date'])\n",
    "data['Old Dock Date'] = pd.to_datetime(data['Old Dock Date'])\n",
    "data['Sugg Due Date'] = pd.to_datetime(data['Sugg Due Date'])\n",
    "data['Sugg Order Date'] = pd.to_datetime(data['Sugg Order Date'])"
   ]
  },
  {
   "cell_type": "code",
   "execution_count": null,
   "metadata": {},
   "outputs": [],
   "source": [
    "# Preview datatypes for each column to confirm the change\n",
    "display(data.dtypes)"
   ]
  },
  {
   "cell_type": "code",
   "execution_count": null,
   "metadata": {},
   "outputs": [],
   "source": [
    "#Sort by Planner, Item, Dates\n",
    "\n",
    "# IF Dock Date is empty, fill it with Sugg Due Date\n",
    "data['Old Dock Date'].fillna(data['Sugg Due Date'].dt.date, inplace=True)\n",
    "\n",
    "# Put all of the items in order by date\n",
    "data = data.sort_values(['Planner','Item', 'Old Dock Date', 'Sugg Due Date'])\n",
    "\n",
    "data.head()"
   ]
  },
  {
   "cell_type": "code",
   "execution_count": null,
   "metadata": {},
   "outputs": [],
   "source": [
    "#Calculate qty on hand\n",
    "\n",
    "# Calculate the current inventory column\n",
    "qty_on_hand = inventory.groupby(['Item'])['Quantity'].sum()\n",
    "\n",
    "data['CumSum'] = data.groupby(['Item'])['Qty/Rate'].apply(lambda x: x.cumsum())\n",
    "\n",
    "data = pd.merge(data, qty_on_hand, on='Item', how='left')\n",
    "\n",
    "data['Quantity'] = data['Quantity'].fillna(0)\n",
    "\n",
    "data['Current INV'] = data['CumSum'] + data['Quantity']"
   ]
  },
  {
   "cell_type": "code",
   "execution_count": null,
   "metadata": {},
   "outputs": [],
   "source": [
    "#Add comments column\n",
    "data['Comments'] = \"\"\n",
    "\n",
    "# Add safety stock and future SS columns to match the excel file.\n",
    "data['Future SS'] = \"\""
   ]
  },
  {
   "cell_type": "code",
   "execution_count": null,
   "metadata": {},
   "outputs": [],
   "source": [
    "#Diff in Days\n",
    "\n",
    "# Add a column for the difference in days between old date and new\n",
    "#      adding .dt.days converts it to an integer (number of days)\n",
    "#      this allows us to add the 'reschedule over 90' feature later on\n",
    "data['Diff in Days'] = (data['Old Dock Date'] - data['Sugg Dock Date']).dt.days"
   ]
  },
  {
   "cell_type": "code",
   "execution_count": null,
   "metadata": {},
   "outputs": [],
   "source": [
    "#Compute Extended cost\n",
    "\n",
    "data = data.merge(master, how='left', on='Item')\n",
    "\n",
    "data['Order Cost'] = data['Qty/Rate'] * data['Frozen Cost']\n",
    "\n",
    "data.drop(columns=['Frozen Cost'], inplace=True)\n",
    "\n",
    "#Remove negatives in Order Cost\n",
    "\n",
    "neg = data['Order Cost'] <= 0\n",
    "data.loc[neg, 'Order Cost'] = \"\""
   ]
  },
  {
   "cell_type": "code",
   "execution_count": null,
   "metadata": {},
   "outputs": [],
   "source": [
    "#Put columns in order\n",
    "\n",
    "# Set the order of the columns we want\n",
    "data = data[['Item','Comments','Order Type','Action','Planner','Buyer','Using Assembly',\n",
    "             'Planner Code for Using Assembly','Source Supplier','Diff in Days', 'Sugg Dock Date',\n",
    "             'Old Dock Date','Sugg Due Date','Sugg Order Date','Order Number','Qty/Rate',\n",
    "             'Current INV', 'Safety Stock Qty', 'Future SS', 'Order Cost']]\n",
    "#preview\n",
    "data.head()"
   ]
  },
  {
   "cell_type": "code",
   "execution_count": null,
   "metadata": {},
   "outputs": [],
   "source": [
    "#List = items to look into\n",
    "# This sections filters down the rows to the items we want to look at\n",
    "\n",
    "cancels = data['Action'] == \"Cancel\"\n",
    "outs = data['Action'] == \"Reschedule Out\"\n",
    "ins = data['Action'] == \"Reschedule In\"\n",
    "\n",
    "cancel_or_out = (cancels | outs) # & in_indents\n",
    "items_look_into = data[(cancel_or_out | ins)]\n",
    "\n",
    "purch = items_look_into['Order Type'] == 'Purchase order'\n",
    "\n",
    "items_look_into = items_look_into[purch]\n",
    "\n",
    "# final list with rows narrowed down to any item with rescheduled ins\n",
    "# or item with yes for Indented BOM and either cancel or rescheduled outs\n",
    "df = data[data['Item'].isin(items_look_into['Item'])]\n",
    "\n",
    "df.head()"
   ]
  },
  {
   "cell_type": "code",
   "execution_count": null,
   "metadata": {},
   "outputs": [],
   "source": [
    "#Make the Num col\n",
    "\n",
    "# Creates a column \"Num\" with a single integer for each material in the list\n",
    "items_list = items_look_into['Item'].drop_duplicates()\n",
    "items_list.reset_index(drop=True, inplace=True)\n",
    "df3 = pd.Series.to_frame(items_list)\n",
    "df3['Num'] = range(1, len(df3.index)+1)\n",
    "df = pd.merge(df, df3, on='Item', how='left')\n",
    "\n",
    "df.head()"
   ]
  },
  {
   "cell_type": "code",
   "execution_count": null,
   "metadata": {},
   "outputs": [],
   "source": [
    "#Add line cnt column\n",
    "# TO SEE THE PURPOSE OF THIS LINE, COMMENT OUT 'del df['lines']' LATER IN THE CODE.\n",
    "# YOU CAN SEE HOW ITEMS ARE GROUPED AND NUMBERED\n",
    "\n",
    "df['lines'] = 1\n",
    "\n",
    "for cnt in (df.index+1):\n",
    "    try:\n",
    "        if df.Item[cnt-1] == df.Item[cnt]:\n",
    "            df.at[cnt, 'lines'] += df.at[cnt-1, 'lines']\n",
    "    except (KeyError):\n",
    "        pass"
   ]
  },
  {
   "cell_type": "code",
   "execution_count": null,
   "metadata": {},
   "outputs": [],
   "source": [
    "#LC Add columns for coverage\n",
    "\n",
    "\n",
    "print(\"Adding test and covered columns\")\n",
    "df['test'] = 0.0\n",
    "df['covered'] = \"Yes\"\n",
    "df['last'] = \"\"\n",
    "\n",
    "#If current inv is less than 0, covered = No\n",
    "for x in df.index:\n",
    "    if df['Current INV'][x] < 0:\n",
    "        df.at[x, 'covered'] = 'No'\n",
    "        \n",
    "print(\"test and covered columns done\")\n",
    "\n",
    "print(\"Marking Okay, Not Okay, Reschedule Over 90 and Past Due\")\n",
    "\n",
    "## SAME DAY - POs that arrive the same day as a negative demand are marked 'OK'\n",
    "\n",
    "\n",
    "for x in df.index:\n",
    "    try:\n",
    "        if df.Action[x] == 'Reschedule In':   # Isolate reschedule ins only\n",
    "            if df.at[x, 'Sugg Due Date'] >= df.at[x, 'Old Dock Date']:   #if Sug due date is greater than or the same as old dock date\n",
    "                df.at[x, 'Comments'] = 'OK'   #Mark OK\n",
    "            elif df['lines'][x] == 1 and df.at[x, 'Current INV'] >= 0:\n",
    "                df.at[x, 'Comments'] = 'OK'\n",
    "            elif df['lines'][x] > 1 and df.at[x-1, 'Current INV'] >= 0: #if it's not the first item in that list and the line prior is not negative (or 0), mark OK\n",
    "                df.at[x, 'Comments'] = 'OK'\n",
    "            else:   #The rest are not ok\n",
    "                df.at[x, 'Comments'] = 'Not OK'\n",
    "    except(KeyError):\n",
    "        pass\n",
    "\n",
    "# Mark Reschedule Outs over 90\n",
    "for x in df.index:\n",
    "    try:\n",
    "        if df.Action[x] == 'Reschedule Out':\n",
    "            if df.at[x, 'Diff in Days'] <= -90:\n",
    "                df.at[x, 'Comments'] = 'Reschedule Over 90'\n",
    "    except(KeyError):\n",
    "        pass\n",
    "\n",
    "# Mark Past Due POs\n",
    "# This was not working when I used df.at[x, 'Order Type'] == 'Purchase Order'\n",
    "# So I switched it to go off of when qty/rate > 0 \n",
    "\n",
    "#get yesterdays date to determine past due POs\n",
    "from datetime import date, timedelta\n",
    "yesterday = date.today() - timedelta(days=1)\n",
    "\n",
    "\n",
    "for x in df.index:\n",
    "    try:\n",
    "        if df.at[x, 'Qty/Rate'] > 0:\n",
    "            if df.at[x, 'Old Dock Date'] < yesterday: #pd.to_datetime('today'):\n",
    "                df.at[x, 'Comments'] = 'Past Due PO'\n",
    "    except(KeyError):\n",
    "        pass\n"
   ]
  },
  {
   "cell_type": "code",
   "execution_count": null,
   "metadata": {},
   "outputs": [],
   "source": [
    "#Calculate metrics\n",
    "\n",
    "total_cancels = df[df['Action'] == \"Cancel\" ]\n",
    "total_ins = df[df['Action'] == \"Reschedule In\"]\n",
    "total_po_outs = df[(df['Action'] == \"Reschedule Out\") & (df['Order Type'] == 'Purchase order')]\n",
    "total_wo_outs = df[(df['Action'] == \"Reschedule Out\") & (df['Order Type'] == 'Work order')]\n",
    "\n",
    "metric_cancels = total_cancels['Item'].count()\n",
    "metric_ins = total_ins['Item'].count()\n",
    "metric_po_outs = total_po_outs['Item'].count()\n",
    "metric_wo_outs = total_wo_outs['Item'].count()"
   ]
  },
  {
   "cell_type": "code",
   "execution_count": null,
   "metadata": {},
   "outputs": [],
   "source": [
    "#Print metrics\n",
    "\n",
    "print(\"Reschedule Ins = \", metric_ins)\n",
    "print(\"Purchase order reschedule outs = \", metric_po_outs)\n",
    "print(\"Work order reschedule outs = \", metric_wo_outs)\n",
    "print(\"Cancels = \", metric_cancels)"
   ]
  },
  {
   "cell_type": "code",
   "execution_count": null,
   "metadata": {},
   "outputs": [],
   "source": [
    "#fill blanks upwards\n",
    "\n",
    "df['Using Assembly'].bfill(inplace=True)\n",
    "df['Planner Code for Using Assembly'].bfill(inplace=True)\n",
    "\n",
    "#del lines column\n",
    "del df['lines']"
   ]
  },
  {
   "cell_type": "code",
   "execution_count": null,
   "metadata": {},
   "outputs": [],
   "source": [
    "#Open previous report\n",
    "\n",
    "# Open the previous report to get the comments from last time\n",
    "chdir(r'U:\\foldername3\\foldername4')\n",
    "\n",
    "previous = pd.read_excel(\"Exceptions.xlsm\", skiprows=3, \n",
    "                         usecols=['Item', 'Last Week', 'Comments', 'Order Number', 'Qty/Rate'])"
   ]
  },
  {
   "cell_type": "code",
   "execution_count": null,
   "metadata": {},
   "outputs": [],
   "source": [
    "#Copy Last Week to Comments\n",
    "\n",
    "# Loop through each line, copy Last Week to Comments if it is blank\n",
    "for x in previous.index:\n",
    "    if pd.isna(previous.Comments[x]):\n",
    "        previous.at[x, 'Comments'] = previous.at[x, 'Last Week']\n",
    "\n",
    "#Change Comments column to Last Week\n",
    "\n",
    "del previous['Last Week']\n",
    "previous.rename(columns={'Comments':'Last Week'}, inplace=True)"
   ]
  },
  {
   "cell_type": "code",
   "execution_count": null,
   "metadata": {},
   "outputs": [],
   "source": [
    "#Remove duplicates\n",
    "\n",
    "# keep only rows that have comments\n",
    "previous.dropna(axis=0, how='any', inplace=True)\n",
    "\n",
    "previous.drop_duplicates(['Item', 'Order Number', 'Qty/Rate'], inplace=True)"
   ]
  },
  {
   "cell_type": "code",
   "execution_count": null,
   "metadata": {},
   "outputs": [],
   "source": [
    "#Merge previous with df\n",
    "\n",
    "# merge on 3 columns: Item, Order Number, Qty/Rate\n",
    "df = df.merge(previous, how='left', on=['Item', 'Order Number', 'Qty/Rate'])"
   ]
  },
  {
   "cell_type": "code",
   "execution_count": null,
   "metadata": {},
   "outputs": [],
   "source": [
    "#Move Last Week column\n",
    "\n",
    "# copy Last Week column\n",
    "temp = df['Last Week']\n",
    "\n",
    "# delete Last Week column\n",
    "del df['Last Week']\n",
    "\n",
    "# insert Last Week column between Item and Comments\n",
    "df.insert(1, \"Last Week\", temp)\n",
    "\n",
    "\n",
    "### This changes the output to YYYY-MM-DD\n",
    "df['Sugg Dock Date'] = pd.to_datetime(df['Sugg Dock Date']).dt.date"
   ]
  },
  {
   "cell_type": "code",
   "execution_count": null,
   "metadata": {},
   "outputs": [],
   "source": [
    "#Set the output folder\n",
    "\n",
    "chdir(r'U:\\foldername1\\foldername2\\Output_Data')\n",
    "filename = \"Exceptions_output.xlsx\"\n",
    "\n",
    "print(\"ready to save the output file and open it with excel.....\")"
   ]
  },
  {
   "cell_type": "code",
   "execution_count": null,
   "metadata": {},
   "outputs": [],
   "source": [
    "#Write out sheets\n",
    "\n",
    "print(\"Writing everything to a spreadsheet file\")\n",
    "\n",
    "writer = pd.ExcelWriter(filename, engine='xlsxwriter') # pylint: disable=abstract-class-instantiated\n",
    "\n",
    "# add lines like this for each sheet to write out\n",
    "df.to_excel(writer, sheet_name='Sheet1')\n",
    "\n",
    "# future_ss.to_excel(writer, sheet_name='Future SS')\n",
    "\n",
    "# Save the whole thing\n",
    "writer.save()\n",
    "print(\"file saved, opening excel\")"
   ]
  },
  {
   "cell_type": "code",
   "execution_count": null,
   "metadata": {},
   "outputs": [],
   "source": [
    "#Open excel\n",
    "\n",
    "# Opens the file in excel\n",
    "system(\"start excel \" + filename)"
   ]
  }
 ],
 "metadata": {
  "kernelspec": {
   "display_name": "base",
   "language": "python",
   "name": "python3"
  },
  "language_info": {
   "codemirror_mode": {
    "name": "ipython",
    "version": 3
   },
   "file_extension": ".py",
   "mimetype": "text/x-python",
   "name": "python",
   "nbconvert_exporter": "python",
   "pygments_lexer": "ipython3",
   "version": "3.9.12"
  },
  "orig_nbformat": 4
 },
 "nbformat": 4,
 "nbformat_minor": 2
}
